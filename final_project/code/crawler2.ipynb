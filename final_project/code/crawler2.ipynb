{
 "cells": [
  {
   "cell_type": "code",
   "execution_count": 2,
   "metadata": {},
   "outputs": [],
   "source": [
    "import pandas as pd\n",
    "import numpy as np\n",
    "import requests\n",
    "import json\n",
    "import time\n",
    "import pickle\n",
    "ts = time.time()\n",
    "import pymongo\n",
    "from bs4 import BeautifulSoup\n",
    "import datetime\n",
    "from selenium import webdriver"
   ]
  },
  {
   "cell_type": "markdown",
   "metadata": {},
   "source": [
    "# Related Keyword Getter from Naver Ad"
   ]
  },
  {
   "cell_type": "code",
   "execution_count": 23,
   "metadata": {},
   "outputs": [],
   "source": [
    "driver = webdriver.Chrome()\n",
    "driver.get('https://searchad.naver.com/login?returnUrl=https:%2F%2Fmanage.searchad.naver.com%2Ffront')\n",
    "pw = pickle.load(open(\"pw.pickle\", \"rb\"))\n",
    "driver.find_element_by_css_selector( \"#uid\" ).send_keys( \"yjoung90\" )\n",
    "driver.find_element_by_css_selector( \"#upw\" ).send_keys( pw )"
   ]
  },
  {
   "cell_type": "code",
   "execution_count": 24,
   "metadata": {},
   "outputs": [],
   "source": [
    "driver.find_element_by_css_selector(\"span.btn_login button[type=submit]\").click()\n",
    "logout_url = 'https://manage.searchad.naver.com/customers/1376590/tool/keyword-planner'\n",
    "driver.get(logout_url)"
   ]
  },
  {
   "cell_type": "code",
   "execution_count": 25,
   "metadata": {},
   "outputs": [],
   "source": [
    "client = pymongo.MongoClient('mongodb://localhost:27017/')\n",
    "db = client.crawl_data\n",
    "collection = db.data\n",
    "collection2 = db.keyword_rank\n",
    "keyword_df = pd.DataFrame(list(collection2.find()))\n",
    "keyword_df.drop(['_id'], axis=1, inplace=True)"
   ]
  },
  {
   "cell_type": "code",
   "execution_count": 26,
   "metadata": {},
   "outputs": [
    {
     "data": {
      "text/plain": [
       "Index(['catID', 'date', 'keywords', 'rank', 'rel_record'], dtype='object')"
      ]
     },
     "execution_count": 26,
     "metadata": {},
     "output_type": "execute_result"
    }
   ],
   "source": [
    "keyword_df.columns"
   ]
  },
  {
   "cell_type": "code",
   "execution_count": 28,
   "metadata": {},
   "outputs": [],
   "source": [
    "key = keyword_df.keywords.unique()"
   ]
  },
  {
   "cell_type": "code",
   "execution_count": null,
   "metadata": {},
   "outputs": [],
   "source": []
  },
  {
   "cell_type": "markdown",
   "metadata": {},
   "source": [
    "# TOP Keywords 2017-08-01 ~ 2018-04-20"
   ]
  },
  {
   "cell_type": "code",
   "execution_count": 20,
   "metadata": {},
   "outputs": [],
   "source": [
    "def get_keywords():\n",
    "    \n",
    "    driver =  webdriver.Chrome()\n",
    "    \n",
    "    driver.get('https://datalab.naver.com/shoppingInsight/sCategory.naver')\n",
    "    driver.find_element_by_css_selector(\".ico_pctop.btn_search\").click()\n",
    "    keywords = driver.find_elements_by_css_selector('#content li')\n",
    "    df = pd.DataFrame(columns=[\"rank\",\"keyword\"])\n",
    "    for keyword in keywords:\n",
    "        df.loc[len(df)] = {\n",
    "        'rank':keyword.find_element_by_css_selector('.link_text .rank_top1000_num').text,\n",
    "        'keyword':keyword.find_element_by_css_selector('a.link_text').text,\n",
    "        }\n",
    "    driver.close()\n",
    "    return df"
   ]
  },
  {
   "cell_type": "code",
   "execution_count": 22,
   "metadata": {
    "scrolled": true
   },
   "outputs": [
    {
     "ename": "NoSuchElementException",
     "evalue": "Message: no such element: Unable to locate element: {\"method\":\"css selector\",\"selector\":\".link_text .rank_top1000_num\"}\n  (Session info: chrome=65.0.3325.181)\n  (Driver info: chromedriver=2.38.551601 (edb21f07fc70e9027c746edd3201443e011a61ed),platform=Windows NT 10.0.16299 x86_64)\n",
     "output_type": "error",
     "traceback": [
      "\u001b[1;31m---------------------------------------------------------------------------\u001b[0m",
      "\u001b[1;31mNoSuchElementException\u001b[0m                    Traceback (most recent call last)",
      "\u001b[1;32m<ipython-input-22-8c800d8ae7b7>\u001b[0m in \u001b[0;36m<module>\u001b[1;34m()\u001b[0m\n\u001b[1;32m----> 1\u001b[1;33m \u001b[0mdf\u001b[0m \u001b[1;33m=\u001b[0m \u001b[0mget_keywords\u001b[0m\u001b[1;33m(\u001b[0m\u001b[1;33m)\u001b[0m\u001b[1;33m\u001b[0m\u001b[0m\n\u001b[0m",
      "\u001b[1;32m<ipython-input-20-4c1f83175cde>\u001b[0m in \u001b[0;36mget_keywords\u001b[1;34m()\u001b[0m\n\u001b[0;32m      8\u001b[0m     \u001b[1;32mfor\u001b[0m \u001b[0mkeyword\u001b[0m \u001b[1;32min\u001b[0m \u001b[0mkeywords\u001b[0m\u001b[1;33m:\u001b[0m\u001b[1;33m\u001b[0m\u001b[0m\n\u001b[0;32m      9\u001b[0m         df.loc[len(df)] = {\n\u001b[1;32m---> 10\u001b[1;33m         \u001b[1;34m'rank'\u001b[0m\u001b[1;33m:\u001b[0m\u001b[0mkeyword\u001b[0m\u001b[1;33m.\u001b[0m\u001b[0mfind_element_by_css_selector\u001b[0m\u001b[1;33m(\u001b[0m\u001b[1;34m'.link_text .rank_top1000_num'\u001b[0m\u001b[1;33m)\u001b[0m\u001b[1;33m.\u001b[0m\u001b[0mtext\u001b[0m\u001b[1;33m,\u001b[0m\u001b[1;33m\u001b[0m\u001b[0m\n\u001b[0m\u001b[0;32m     11\u001b[0m         \u001b[1;34m'keyword'\u001b[0m\u001b[1;33m:\u001b[0m\u001b[0mkeyword\u001b[0m\u001b[1;33m.\u001b[0m\u001b[0mfind_element_by_css_selector\u001b[0m\u001b[1;33m(\u001b[0m\u001b[1;34m'a.link_text'\u001b[0m\u001b[1;33m)\u001b[0m\u001b[1;33m.\u001b[0m\u001b[0mtext\u001b[0m\u001b[1;33m,\u001b[0m\u001b[1;33m\u001b[0m\u001b[0m\n\u001b[0;32m     12\u001b[0m         }\n",
      "\u001b[1;32m~\\AppData\\Local\\Continuum\\anaconda3\\lib\\site-packages\\selenium\\webdriver\\remote\\webelement.py\u001b[0m in \u001b[0;36mfind_element_by_css_selector\u001b[1;34m(self, css_selector)\u001b[0m\n\u001b[0;32m    428\u001b[0m             \u001b[0melement\u001b[0m \u001b[1;33m=\u001b[0m \u001b[0melement\u001b[0m\u001b[1;33m.\u001b[0m\u001b[0mfind_element_by_css_selector\u001b[0m\u001b[1;33m(\u001b[0m\u001b[1;34m'#foo'\u001b[0m\u001b[1;33m)\u001b[0m\u001b[1;33m\u001b[0m\u001b[0m\n\u001b[0;32m    429\u001b[0m         \"\"\"\n\u001b[1;32m--> 430\u001b[1;33m         \u001b[1;32mreturn\u001b[0m \u001b[0mself\u001b[0m\u001b[1;33m.\u001b[0m\u001b[0mfind_element\u001b[0m\u001b[1;33m(\u001b[0m\u001b[0mby\u001b[0m\u001b[1;33m=\u001b[0m\u001b[0mBy\u001b[0m\u001b[1;33m.\u001b[0m\u001b[0mCSS_SELECTOR\u001b[0m\u001b[1;33m,\u001b[0m \u001b[0mvalue\u001b[0m\u001b[1;33m=\u001b[0m\u001b[0mcss_selector\u001b[0m\u001b[1;33m)\u001b[0m\u001b[1;33m\u001b[0m\u001b[0m\n\u001b[0m\u001b[0;32m    431\u001b[0m \u001b[1;33m\u001b[0m\u001b[0m\n\u001b[0;32m    432\u001b[0m     \u001b[1;32mdef\u001b[0m \u001b[0mfind_elements_by_css_selector\u001b[0m\u001b[1;33m(\u001b[0m\u001b[0mself\u001b[0m\u001b[1;33m,\u001b[0m \u001b[0mcss_selector\u001b[0m\u001b[1;33m)\u001b[0m\u001b[1;33m:\u001b[0m\u001b[1;33m\u001b[0m\u001b[0m\n",
      "\u001b[1;32m~\\AppData\\Local\\Continuum\\anaconda3\\lib\\site-packages\\selenium\\webdriver\\remote\\webelement.py\u001b[0m in \u001b[0;36mfind_element\u001b[1;34m(self, by, value)\u001b[0m\n\u001b[0;32m    651\u001b[0m \u001b[1;33m\u001b[0m\u001b[0m\n\u001b[0;32m    652\u001b[0m         return self._execute(Command.FIND_CHILD_ELEMENT,\n\u001b[1;32m--> 653\u001b[1;33m                              {\"using\": by, \"value\": value})['value']\n\u001b[0m\u001b[0;32m    654\u001b[0m \u001b[1;33m\u001b[0m\u001b[0m\n\u001b[0;32m    655\u001b[0m     \u001b[1;32mdef\u001b[0m \u001b[0mfind_elements\u001b[0m\u001b[1;33m(\u001b[0m\u001b[0mself\u001b[0m\u001b[1;33m,\u001b[0m \u001b[0mby\u001b[0m\u001b[1;33m=\u001b[0m\u001b[0mBy\u001b[0m\u001b[1;33m.\u001b[0m\u001b[0mID\u001b[0m\u001b[1;33m,\u001b[0m \u001b[0mvalue\u001b[0m\u001b[1;33m=\u001b[0m\u001b[1;32mNone\u001b[0m\u001b[1;33m)\u001b[0m\u001b[1;33m:\u001b[0m\u001b[1;33m\u001b[0m\u001b[0m\n",
      "\u001b[1;32m~\\AppData\\Local\\Continuum\\anaconda3\\lib\\site-packages\\selenium\\webdriver\\remote\\webelement.py\u001b[0m in \u001b[0;36m_execute\u001b[1;34m(self, command, params)\u001b[0m\n\u001b[0;32m    626\u001b[0m             \u001b[0mparams\u001b[0m \u001b[1;33m=\u001b[0m \u001b[1;33m{\u001b[0m\u001b[1;33m}\u001b[0m\u001b[1;33m\u001b[0m\u001b[0m\n\u001b[0;32m    627\u001b[0m         \u001b[0mparams\u001b[0m\u001b[1;33m[\u001b[0m\u001b[1;34m'id'\u001b[0m\u001b[1;33m]\u001b[0m \u001b[1;33m=\u001b[0m \u001b[0mself\u001b[0m\u001b[1;33m.\u001b[0m\u001b[0m_id\u001b[0m\u001b[1;33m\u001b[0m\u001b[0m\n\u001b[1;32m--> 628\u001b[1;33m         \u001b[1;32mreturn\u001b[0m \u001b[0mself\u001b[0m\u001b[1;33m.\u001b[0m\u001b[0m_parent\u001b[0m\u001b[1;33m.\u001b[0m\u001b[0mexecute\u001b[0m\u001b[1;33m(\u001b[0m\u001b[0mcommand\u001b[0m\u001b[1;33m,\u001b[0m \u001b[0mparams\u001b[0m\u001b[1;33m)\u001b[0m\u001b[1;33m\u001b[0m\u001b[0m\n\u001b[0m\u001b[0;32m    629\u001b[0m \u001b[1;33m\u001b[0m\u001b[0m\n\u001b[0;32m    630\u001b[0m     \u001b[1;32mdef\u001b[0m \u001b[0mfind_element\u001b[0m\u001b[1;33m(\u001b[0m\u001b[0mself\u001b[0m\u001b[1;33m,\u001b[0m \u001b[0mby\u001b[0m\u001b[1;33m=\u001b[0m\u001b[0mBy\u001b[0m\u001b[1;33m.\u001b[0m\u001b[0mID\u001b[0m\u001b[1;33m,\u001b[0m \u001b[0mvalue\u001b[0m\u001b[1;33m=\u001b[0m\u001b[1;32mNone\u001b[0m\u001b[1;33m)\u001b[0m\u001b[1;33m:\u001b[0m\u001b[1;33m\u001b[0m\u001b[0m\n",
      "\u001b[1;32m~\\AppData\\Local\\Continuum\\anaconda3\\lib\\site-packages\\selenium\\webdriver\\remote\\webdriver.py\u001b[0m in \u001b[0;36mexecute\u001b[1;34m(self, driver_command, params)\u001b[0m\n\u001b[0;32m    310\u001b[0m         \u001b[0mresponse\u001b[0m \u001b[1;33m=\u001b[0m \u001b[0mself\u001b[0m\u001b[1;33m.\u001b[0m\u001b[0mcommand_executor\u001b[0m\u001b[1;33m.\u001b[0m\u001b[0mexecute\u001b[0m\u001b[1;33m(\u001b[0m\u001b[0mdriver_command\u001b[0m\u001b[1;33m,\u001b[0m \u001b[0mparams\u001b[0m\u001b[1;33m)\u001b[0m\u001b[1;33m\u001b[0m\u001b[0m\n\u001b[0;32m    311\u001b[0m         \u001b[1;32mif\u001b[0m \u001b[0mresponse\u001b[0m\u001b[1;33m:\u001b[0m\u001b[1;33m\u001b[0m\u001b[0m\n\u001b[1;32m--> 312\u001b[1;33m             \u001b[0mself\u001b[0m\u001b[1;33m.\u001b[0m\u001b[0merror_handler\u001b[0m\u001b[1;33m.\u001b[0m\u001b[0mcheck_response\u001b[0m\u001b[1;33m(\u001b[0m\u001b[0mresponse\u001b[0m\u001b[1;33m)\u001b[0m\u001b[1;33m\u001b[0m\u001b[0m\n\u001b[0m\u001b[0;32m    313\u001b[0m             response['value'] = self._unwrap_value(\n\u001b[0;32m    314\u001b[0m                 response.get('value', None))\n",
      "\u001b[1;32m~\\AppData\\Local\\Continuum\\anaconda3\\lib\\site-packages\\selenium\\webdriver\\remote\\errorhandler.py\u001b[0m in \u001b[0;36mcheck_response\u001b[1;34m(self, response)\u001b[0m\n\u001b[0;32m    240\u001b[0m                 \u001b[0malert_text\u001b[0m \u001b[1;33m=\u001b[0m \u001b[0mvalue\u001b[0m\u001b[1;33m[\u001b[0m\u001b[1;34m'alert'\u001b[0m\u001b[1;33m]\u001b[0m\u001b[1;33m.\u001b[0m\u001b[0mget\u001b[0m\u001b[1;33m(\u001b[0m\u001b[1;34m'text'\u001b[0m\u001b[1;33m)\u001b[0m\u001b[1;33m\u001b[0m\u001b[0m\n\u001b[0;32m    241\u001b[0m             \u001b[1;32mraise\u001b[0m \u001b[0mexception_class\u001b[0m\u001b[1;33m(\u001b[0m\u001b[0mmessage\u001b[0m\u001b[1;33m,\u001b[0m \u001b[0mscreen\u001b[0m\u001b[1;33m,\u001b[0m \u001b[0mstacktrace\u001b[0m\u001b[1;33m,\u001b[0m \u001b[0malert_text\u001b[0m\u001b[1;33m)\u001b[0m\u001b[1;33m\u001b[0m\u001b[0m\n\u001b[1;32m--> 242\u001b[1;33m         \u001b[1;32mraise\u001b[0m \u001b[0mexception_class\u001b[0m\u001b[1;33m(\u001b[0m\u001b[0mmessage\u001b[0m\u001b[1;33m,\u001b[0m \u001b[0mscreen\u001b[0m\u001b[1;33m,\u001b[0m \u001b[0mstacktrace\u001b[0m\u001b[1;33m)\u001b[0m\u001b[1;33m\u001b[0m\u001b[0m\n\u001b[0m\u001b[0;32m    243\u001b[0m \u001b[1;33m\u001b[0m\u001b[0m\n\u001b[0;32m    244\u001b[0m     \u001b[1;32mdef\u001b[0m \u001b[0m_value_or_default\u001b[0m\u001b[1;33m(\u001b[0m\u001b[0mself\u001b[0m\u001b[1;33m,\u001b[0m \u001b[0mobj\u001b[0m\u001b[1;33m,\u001b[0m \u001b[0mkey\u001b[0m\u001b[1;33m,\u001b[0m \u001b[0mdefault\u001b[0m\u001b[1;33m)\u001b[0m\u001b[1;33m:\u001b[0m\u001b[1;33m\u001b[0m\u001b[0m\n",
      "\u001b[1;31mNoSuchElementException\u001b[0m: Message: no such element: Unable to locate element: {\"method\":\"css selector\",\"selector\":\".link_text .rank_top1000_num\"}\n  (Session info: chrome=65.0.3325.181)\n  (Driver info: chromedriver=2.38.551601 (edb21f07fc70e9027c746edd3201443e011a61ed),platform=Windows NT 10.0.16299 x86_64)\n"
     ]
    }
   ],
   "source": [
    "df = get_keywords()"
   ]
  },
  {
   "cell_type": "code",
   "execution_count": 12,
   "metadata": {},
   "outputs": [
    {
     "data": {
      "text/html": [
       "<div>\n",
       "<style scoped>\n",
       "    .dataframe tbody tr th:only-of-type {\n",
       "        vertical-align: middle;\n",
       "    }\n",
       "\n",
       "    .dataframe tbody tr th {\n",
       "        vertical-align: top;\n",
       "    }\n",
       "\n",
       "    .dataframe thead th {\n",
       "        text-align: right;\n",
       "    }\n",
       "</style>\n",
       "<table border=\"1\" class=\"dataframe\">\n",
       "  <thead>\n",
       "    <tr style=\"text-align: right;\">\n",
       "      <th></th>\n",
       "      <th>rank</th>\n",
       "      <th>keyword</th>\n",
       "    </tr>\n",
       "  </thead>\n",
       "  <tbody>\n",
       "  </tbody>\n",
       "</table>\n",
       "</div>"
      ],
      "text/plain": [
       "Empty DataFrame\n",
       "Columns: [rank, keyword]\n",
       "Index: []"
      ]
     },
     "execution_count": 12,
     "metadata": {},
     "output_type": "execute_result"
    }
   ],
   "source": [
    "#content > div.section_instie_area.space_top > div > div:nth-child(2) > div.section_insite_sub > div > div > div.rank_top1000_scroll > ul"
   ]
  },
  {
   "cell_type": "code",
   "execution_count": 18,
   "metadata": {},
   "outputs": [],
   "source": [
    "driver =  webdriver.Chrome()\n",
    "\n",
    "driver.get('https://datalab.naver.com/shoppingInsight/sCategory.naver')\n",
    "keywords = driver.find_elements_by_css_selector('#content li')"
   ]
  },
  {
   "cell_type": "code",
   "execution_count": 19,
   "metadata": {},
   "outputs": [
    {
     "data": {
      "text/plain": [
       "[<selenium.webdriver.remote.webelement.WebElement (session=\"07f903ff4863b38407b58cac0bfed201\", element=\"0.8575908822935008-1\")>,\n",
       " <selenium.webdriver.remote.webelement.WebElement (session=\"07f903ff4863b38407b58cac0bfed201\", element=\"0.8575908822935008-2\")>,\n",
       " <selenium.webdriver.remote.webelement.WebElement (session=\"07f903ff4863b38407b58cac0bfed201\", element=\"0.8575908822935008-3\")>,\n",
       " <selenium.webdriver.remote.webelement.WebElement (session=\"07f903ff4863b38407b58cac0bfed201\", element=\"0.8575908822935008-4\")>,\n",
       " <selenium.webdriver.remote.webelement.WebElement (session=\"07f903ff4863b38407b58cac0bfed201\", element=\"0.8575908822935008-5\")>,\n",
       " <selenium.webdriver.remote.webelement.WebElement (session=\"07f903ff4863b38407b58cac0bfed201\", element=\"0.8575908822935008-6\")>,\n",
       " <selenium.webdriver.remote.webelement.WebElement (session=\"07f903ff4863b38407b58cac0bfed201\", element=\"0.8575908822935008-7\")>,\n",
       " <selenium.webdriver.remote.webelement.WebElement (session=\"07f903ff4863b38407b58cac0bfed201\", element=\"0.8575908822935008-8\")>,\n",
       " <selenium.webdriver.remote.webelement.WebElement (session=\"07f903ff4863b38407b58cac0bfed201\", element=\"0.8575908822935008-9\")>,\n",
       " <selenium.webdriver.remote.webelement.WebElement (session=\"07f903ff4863b38407b58cac0bfed201\", element=\"0.8575908822935008-10\")>,\n",
       " <selenium.webdriver.remote.webelement.WebElement (session=\"07f903ff4863b38407b58cac0bfed201\", element=\"0.8575908822935008-11\")>,\n",
       " <selenium.webdriver.remote.webelement.WebElement (session=\"07f903ff4863b38407b58cac0bfed201\", element=\"0.8575908822935008-12\")>,\n",
       " <selenium.webdriver.remote.webelement.WebElement (session=\"07f903ff4863b38407b58cac0bfed201\", element=\"0.8575908822935008-13\")>,\n",
       " <selenium.webdriver.remote.webelement.WebElement (session=\"07f903ff4863b38407b58cac0bfed201\", element=\"0.8575908822935008-14\")>,\n",
       " <selenium.webdriver.remote.webelement.WebElement (session=\"07f903ff4863b38407b58cac0bfed201\", element=\"0.8575908822935008-15\")>,\n",
       " <selenium.webdriver.remote.webelement.WebElement (session=\"07f903ff4863b38407b58cac0bfed201\", element=\"0.8575908822935008-16\")>,\n",
       " <selenium.webdriver.remote.webelement.WebElement (session=\"07f903ff4863b38407b58cac0bfed201\", element=\"0.8575908822935008-17\")>,\n",
       " <selenium.webdriver.remote.webelement.WebElement (session=\"07f903ff4863b38407b58cac0bfed201\", element=\"0.8575908822935008-18\")>,\n",
       " <selenium.webdriver.remote.webelement.WebElement (session=\"07f903ff4863b38407b58cac0bfed201\", element=\"0.8575908822935008-19\")>,\n",
       " <selenium.webdriver.remote.webelement.WebElement (session=\"07f903ff4863b38407b58cac0bfed201\", element=\"0.8575908822935008-20\")>,\n",
       " <selenium.webdriver.remote.webelement.WebElement (session=\"07f903ff4863b38407b58cac0bfed201\", element=\"0.8575908822935008-21\")>,\n",
       " <selenium.webdriver.remote.webelement.WebElement (session=\"07f903ff4863b38407b58cac0bfed201\", element=\"0.8575908822935008-22\")>,\n",
       " <selenium.webdriver.remote.webelement.WebElement (session=\"07f903ff4863b38407b58cac0bfed201\", element=\"0.8575908822935008-23\")>,\n",
       " <selenium.webdriver.remote.webelement.WebElement (session=\"07f903ff4863b38407b58cac0bfed201\", element=\"0.8575908822935008-24\")>,\n",
       " <selenium.webdriver.remote.webelement.WebElement (session=\"07f903ff4863b38407b58cac0bfed201\", element=\"0.8575908822935008-25\")>,\n",
       " <selenium.webdriver.remote.webelement.WebElement (session=\"07f903ff4863b38407b58cac0bfed201\", element=\"0.8575908822935008-26\")>,\n",
       " <selenium.webdriver.remote.webelement.WebElement (session=\"07f903ff4863b38407b58cac0bfed201\", element=\"0.8575908822935008-27\")>,\n",
       " <selenium.webdriver.remote.webelement.WebElement (session=\"07f903ff4863b38407b58cac0bfed201\", element=\"0.8575908822935008-28\")>,\n",
       " <selenium.webdriver.remote.webelement.WebElement (session=\"07f903ff4863b38407b58cac0bfed201\", element=\"0.8575908822935008-29\")>,\n",
       " <selenium.webdriver.remote.webelement.WebElement (session=\"07f903ff4863b38407b58cac0bfed201\", element=\"0.8575908822935008-30\")>,\n",
       " <selenium.webdriver.remote.webelement.WebElement (session=\"07f903ff4863b38407b58cac0bfed201\", element=\"0.8575908822935008-31\")>,\n",
       " <selenium.webdriver.remote.webelement.WebElement (session=\"07f903ff4863b38407b58cac0bfed201\", element=\"0.8575908822935008-32\")>,\n",
       " <selenium.webdriver.remote.webelement.WebElement (session=\"07f903ff4863b38407b58cac0bfed201\", element=\"0.8575908822935008-33\")>,\n",
       " <selenium.webdriver.remote.webelement.WebElement (session=\"07f903ff4863b38407b58cac0bfed201\", element=\"0.8575908822935008-34\")>,\n",
       " <selenium.webdriver.remote.webelement.WebElement (session=\"07f903ff4863b38407b58cac0bfed201\", element=\"0.8575908822935008-35\")>,\n",
       " <selenium.webdriver.remote.webelement.WebElement (session=\"07f903ff4863b38407b58cac0bfed201\", element=\"0.8575908822935008-36\")>,\n",
       " <selenium.webdriver.remote.webelement.WebElement (session=\"07f903ff4863b38407b58cac0bfed201\", element=\"0.8575908822935008-37\")>,\n",
       " <selenium.webdriver.remote.webelement.WebElement (session=\"07f903ff4863b38407b58cac0bfed201\", element=\"0.8575908822935008-38\")>,\n",
       " <selenium.webdriver.remote.webelement.WebElement (session=\"07f903ff4863b38407b58cac0bfed201\", element=\"0.8575908822935008-39\")>,\n",
       " <selenium.webdriver.remote.webelement.WebElement (session=\"07f903ff4863b38407b58cac0bfed201\", element=\"0.8575908822935008-40\")>,\n",
       " <selenium.webdriver.remote.webelement.WebElement (session=\"07f903ff4863b38407b58cac0bfed201\", element=\"0.8575908822935008-41\")>,\n",
       " <selenium.webdriver.remote.webelement.WebElement (session=\"07f903ff4863b38407b58cac0bfed201\", element=\"0.8575908822935008-42\")>,\n",
       " <selenium.webdriver.remote.webelement.WebElement (session=\"07f903ff4863b38407b58cac0bfed201\", element=\"0.8575908822935008-43\")>,\n",
       " <selenium.webdriver.remote.webelement.WebElement (session=\"07f903ff4863b38407b58cac0bfed201\", element=\"0.8575908822935008-44\")>,\n",
       " <selenium.webdriver.remote.webelement.WebElement (session=\"07f903ff4863b38407b58cac0bfed201\", element=\"0.8575908822935008-45\")>,\n",
       " <selenium.webdriver.remote.webelement.WebElement (session=\"07f903ff4863b38407b58cac0bfed201\", element=\"0.8575908822935008-46\")>,\n",
       " <selenium.webdriver.remote.webelement.WebElement (session=\"07f903ff4863b38407b58cac0bfed201\", element=\"0.8575908822935008-47\")>,\n",
       " <selenium.webdriver.remote.webelement.WebElement (session=\"07f903ff4863b38407b58cac0bfed201\", element=\"0.8575908822935008-48\")>,\n",
       " <selenium.webdriver.remote.webelement.WebElement (session=\"07f903ff4863b38407b58cac0bfed201\", element=\"0.8575908822935008-49\")>,\n",
       " <selenium.webdriver.remote.webelement.WebElement (session=\"07f903ff4863b38407b58cac0bfed201\", element=\"0.8575908822935008-50\")>,\n",
       " <selenium.webdriver.remote.webelement.WebElement (session=\"07f903ff4863b38407b58cac0bfed201\", element=\"0.8575908822935008-51\")>,\n",
       " <selenium.webdriver.remote.webelement.WebElement (session=\"07f903ff4863b38407b58cac0bfed201\", element=\"0.8575908822935008-52\")>,\n",
       " <selenium.webdriver.remote.webelement.WebElement (session=\"07f903ff4863b38407b58cac0bfed201\", element=\"0.8575908822935008-53\")>,\n",
       " <selenium.webdriver.remote.webelement.WebElement (session=\"07f903ff4863b38407b58cac0bfed201\", element=\"0.8575908822935008-54\")>,\n",
       " <selenium.webdriver.remote.webelement.WebElement (session=\"07f903ff4863b38407b58cac0bfed201\", element=\"0.8575908822935008-55\")>,\n",
       " <selenium.webdriver.remote.webelement.WebElement (session=\"07f903ff4863b38407b58cac0bfed201\", element=\"0.8575908822935008-56\")>,\n",
       " <selenium.webdriver.remote.webelement.WebElement (session=\"07f903ff4863b38407b58cac0bfed201\", element=\"0.8575908822935008-57\")>,\n",
       " <selenium.webdriver.remote.webelement.WebElement (session=\"07f903ff4863b38407b58cac0bfed201\", element=\"0.8575908822935008-58\")>,\n",
       " <selenium.webdriver.remote.webelement.WebElement (session=\"07f903ff4863b38407b58cac0bfed201\", element=\"0.8575908822935008-59\")>,\n",
       " <selenium.webdriver.remote.webelement.WebElement (session=\"07f903ff4863b38407b58cac0bfed201\", element=\"0.8575908822935008-60\")>,\n",
       " <selenium.webdriver.remote.webelement.WebElement (session=\"07f903ff4863b38407b58cac0bfed201\", element=\"0.8575908822935008-61\")>,\n",
       " <selenium.webdriver.remote.webelement.WebElement (session=\"07f903ff4863b38407b58cac0bfed201\", element=\"0.8575908822935008-62\")>,\n",
       " <selenium.webdriver.remote.webelement.WebElement (session=\"07f903ff4863b38407b58cac0bfed201\", element=\"0.8575908822935008-63\")>,\n",
       " <selenium.webdriver.remote.webelement.WebElement (session=\"07f903ff4863b38407b58cac0bfed201\", element=\"0.8575908822935008-64\")>,\n",
       " <selenium.webdriver.remote.webelement.WebElement (session=\"07f903ff4863b38407b58cac0bfed201\", element=\"0.8575908822935008-65\")>,\n",
       " <selenium.webdriver.remote.webelement.WebElement (session=\"07f903ff4863b38407b58cac0bfed201\", element=\"0.8575908822935008-66\")>,\n",
       " <selenium.webdriver.remote.webelement.WebElement (session=\"07f903ff4863b38407b58cac0bfed201\", element=\"0.8575908822935008-67\")>,\n",
       " <selenium.webdriver.remote.webelement.WebElement (session=\"07f903ff4863b38407b58cac0bfed201\", element=\"0.8575908822935008-68\")>,\n",
       " <selenium.webdriver.remote.webelement.WebElement (session=\"07f903ff4863b38407b58cac0bfed201\", element=\"0.8575908822935008-69\")>,\n",
       " <selenium.webdriver.remote.webelement.WebElement (session=\"07f903ff4863b38407b58cac0bfed201\", element=\"0.8575908822935008-70\")>,\n",
       " <selenium.webdriver.remote.webelement.WebElement (session=\"07f903ff4863b38407b58cac0bfed201\", element=\"0.8575908822935008-71\")>,\n",
       " <selenium.webdriver.remote.webelement.WebElement (session=\"07f903ff4863b38407b58cac0bfed201\", element=\"0.8575908822935008-72\")>,\n",
       " <selenium.webdriver.remote.webelement.WebElement (session=\"07f903ff4863b38407b58cac0bfed201\", element=\"0.8575908822935008-73\")>,\n",
       " <selenium.webdriver.remote.webelement.WebElement (session=\"07f903ff4863b38407b58cac0bfed201\", element=\"0.8575908822935008-74\")>,\n",
       " <selenium.webdriver.remote.webelement.WebElement (session=\"07f903ff4863b38407b58cac0bfed201\", element=\"0.8575908822935008-75\")>,\n",
       " <selenium.webdriver.remote.webelement.WebElement (session=\"07f903ff4863b38407b58cac0bfed201\", element=\"0.8575908822935008-76\")>,\n",
       " <selenium.webdriver.remote.webelement.WebElement (session=\"07f903ff4863b38407b58cac0bfed201\", element=\"0.8575908822935008-77\")>,\n",
       " <selenium.webdriver.remote.webelement.WebElement (session=\"07f903ff4863b38407b58cac0bfed201\", element=\"0.8575908822935008-78\")>,\n",
       " <selenium.webdriver.remote.webelement.WebElement (session=\"07f903ff4863b38407b58cac0bfed201\", element=\"0.8575908822935008-79\")>,\n",
       " <selenium.webdriver.remote.webelement.WebElement (session=\"07f903ff4863b38407b58cac0bfed201\", element=\"0.8575908822935008-80\")>,\n",
       " <selenium.webdriver.remote.webelement.WebElement (session=\"07f903ff4863b38407b58cac0bfed201\", element=\"0.8575908822935008-81\")>,\n",
       " <selenium.webdriver.remote.webelement.WebElement (session=\"07f903ff4863b38407b58cac0bfed201\", element=\"0.8575908822935008-82\")>,\n",
       " <selenium.webdriver.remote.webelement.WebElement (session=\"07f903ff4863b38407b58cac0bfed201\", element=\"0.8575908822935008-83\")>,\n",
       " <selenium.webdriver.remote.webelement.WebElement (session=\"07f903ff4863b38407b58cac0bfed201\", element=\"0.8575908822935008-84\")>,\n",
       " <selenium.webdriver.remote.webelement.WebElement (session=\"07f903ff4863b38407b58cac0bfed201\", element=\"0.8575908822935008-85\")>,\n",
       " <selenium.webdriver.remote.webelement.WebElement (session=\"07f903ff4863b38407b58cac0bfed201\", element=\"0.8575908822935008-86\")>,\n",
       " <selenium.webdriver.remote.webelement.WebElement (session=\"07f903ff4863b38407b58cac0bfed201\", element=\"0.8575908822935008-87\")>,\n",
       " <selenium.webdriver.remote.webelement.WebElement (session=\"07f903ff4863b38407b58cac0bfed201\", element=\"0.8575908822935008-88\")>,\n",
       " <selenium.webdriver.remote.webelement.WebElement (session=\"07f903ff4863b38407b58cac0bfed201\", element=\"0.8575908822935008-89\")>,\n",
       " <selenium.webdriver.remote.webelement.WebElement (session=\"07f903ff4863b38407b58cac0bfed201\", element=\"0.8575908822935008-90\")>,\n",
       " <selenium.webdriver.remote.webelement.WebElement (session=\"07f903ff4863b38407b58cac0bfed201\", element=\"0.8575908822935008-91\")>,\n",
       " <selenium.webdriver.remote.webelement.WebElement (session=\"07f903ff4863b38407b58cac0bfed201\", element=\"0.8575908822935008-92\")>,\n",
       " <selenium.webdriver.remote.webelement.WebElement (session=\"07f903ff4863b38407b58cac0bfed201\", element=\"0.8575908822935008-93\")>,\n",
       " <selenium.webdriver.remote.webelement.WebElement (session=\"07f903ff4863b38407b58cac0bfed201\", element=\"0.8575908822935008-94\")>,\n",
       " <selenium.webdriver.remote.webelement.WebElement (session=\"07f903ff4863b38407b58cac0bfed201\", element=\"0.8575908822935008-95\")>,\n",
       " <selenium.webdriver.remote.webelement.WebElement (session=\"07f903ff4863b38407b58cac0bfed201\", element=\"0.8575908822935008-96\")>,\n",
       " <selenium.webdriver.remote.webelement.WebElement (session=\"07f903ff4863b38407b58cac0bfed201\", element=\"0.8575908822935008-97\")>,\n",
       " <selenium.webdriver.remote.webelement.WebElement (session=\"07f903ff4863b38407b58cac0bfed201\", element=\"0.8575908822935008-98\")>,\n",
       " <selenium.webdriver.remote.webelement.WebElement (session=\"07f903ff4863b38407b58cac0bfed201\", element=\"0.8575908822935008-99\")>,\n",
       " <selenium.webdriver.remote.webelement.WebElement (session=\"07f903ff4863b38407b58cac0bfed201\", element=\"0.8575908822935008-100\")>,\n",
       " <selenium.webdriver.remote.webelement.WebElement (session=\"07f903ff4863b38407b58cac0bfed201\", element=\"0.8575908822935008-101\")>,\n",
       " <selenium.webdriver.remote.webelement.WebElement (session=\"07f903ff4863b38407b58cac0bfed201\", element=\"0.8575908822935008-102\")>,\n",
       " <selenium.webdriver.remote.webelement.WebElement (session=\"07f903ff4863b38407b58cac0bfed201\", element=\"0.8575908822935008-103\")>,\n",
       " <selenium.webdriver.remote.webelement.WebElement (session=\"07f903ff4863b38407b58cac0bfed201\", element=\"0.8575908822935008-104\")>,\n",
       " <selenium.webdriver.remote.webelement.WebElement (session=\"07f903ff4863b38407b58cac0bfed201\", element=\"0.8575908822935008-105\")>,\n",
       " <selenium.webdriver.remote.webelement.WebElement (session=\"07f903ff4863b38407b58cac0bfed201\", element=\"0.8575908822935008-106\")>,\n",
       " <selenium.webdriver.remote.webelement.WebElement (session=\"07f903ff4863b38407b58cac0bfed201\", element=\"0.8575908822935008-107\")>,\n",
       " <selenium.webdriver.remote.webelement.WebElement (session=\"07f903ff4863b38407b58cac0bfed201\", element=\"0.8575908822935008-108\")>,\n",
       " <selenium.webdriver.remote.webelement.WebElement (session=\"07f903ff4863b38407b58cac0bfed201\", element=\"0.8575908822935008-109\")>,\n",
       " <selenium.webdriver.remote.webelement.WebElement (session=\"07f903ff4863b38407b58cac0bfed201\", element=\"0.8575908822935008-110\")>,\n",
       " <selenium.webdriver.remote.webelement.WebElement (session=\"07f903ff4863b38407b58cac0bfed201\", element=\"0.8575908822935008-111\")>,\n",
       " <selenium.webdriver.remote.webelement.WebElement (session=\"07f903ff4863b38407b58cac0bfed201\", element=\"0.8575908822935008-112\")>,\n",
       " <selenium.webdriver.remote.webelement.WebElement (session=\"07f903ff4863b38407b58cac0bfed201\", element=\"0.8575908822935008-113\")>,\n",
       " <selenium.webdriver.remote.webelement.WebElement (session=\"07f903ff4863b38407b58cac0bfed201\", element=\"0.8575908822935008-114\")>,\n",
       " <selenium.webdriver.remote.webelement.WebElement (session=\"07f903ff4863b38407b58cac0bfed201\", element=\"0.8575908822935008-115\")>,\n",
       " <selenium.webdriver.remote.webelement.WebElement (session=\"07f903ff4863b38407b58cac0bfed201\", element=\"0.8575908822935008-116\")>,\n",
       " <selenium.webdriver.remote.webelement.WebElement (session=\"07f903ff4863b38407b58cac0bfed201\", element=\"0.8575908822935008-117\")>,\n",
       " <selenium.webdriver.remote.webelement.WebElement (session=\"07f903ff4863b38407b58cac0bfed201\", element=\"0.8575908822935008-118\")>,\n",
       " <selenium.webdriver.remote.webelement.WebElement (session=\"07f903ff4863b38407b58cac0bfed201\", element=\"0.8575908822935008-119\")>,\n",
       " <selenium.webdriver.remote.webelement.WebElement (session=\"07f903ff4863b38407b58cac0bfed201\", element=\"0.8575908822935008-120\")>,\n",
       " <selenium.webdriver.remote.webelement.WebElement (session=\"07f903ff4863b38407b58cac0bfed201\", element=\"0.8575908822935008-121\")>,\n",
       " <selenium.webdriver.remote.webelement.WebElement (session=\"07f903ff4863b38407b58cac0bfed201\", element=\"0.8575908822935008-122\")>,\n",
       " <selenium.webdriver.remote.webelement.WebElement (session=\"07f903ff4863b38407b58cac0bfed201\", element=\"0.8575908822935008-123\")>,\n",
       " <selenium.webdriver.remote.webelement.WebElement (session=\"07f903ff4863b38407b58cac0bfed201\", element=\"0.8575908822935008-124\")>,\n",
       " <selenium.webdriver.remote.webelement.WebElement (session=\"07f903ff4863b38407b58cac0bfed201\", element=\"0.8575908822935008-125\")>,\n",
       " <selenium.webdriver.remote.webelement.WebElement (session=\"07f903ff4863b38407b58cac0bfed201\", element=\"0.8575908822935008-126\")>,\n",
       " <selenium.webdriver.remote.webelement.WebElement (session=\"07f903ff4863b38407b58cac0bfed201\", element=\"0.8575908822935008-127\")>,\n",
       " <selenium.webdriver.remote.webelement.WebElement (session=\"07f903ff4863b38407b58cac0bfed201\", element=\"0.8575908822935008-128\")>,\n",
       " <selenium.webdriver.remote.webelement.WebElement (session=\"07f903ff4863b38407b58cac0bfed201\", element=\"0.8575908822935008-129\")>,\n",
       " <selenium.webdriver.remote.webelement.WebElement (session=\"07f903ff4863b38407b58cac0bfed201\", element=\"0.8575908822935008-130\")>,\n",
       " <selenium.webdriver.remote.webelement.WebElement (session=\"07f903ff4863b38407b58cac0bfed201\", element=\"0.8575908822935008-131\")>,\n",
       " <selenium.webdriver.remote.webelement.WebElement (session=\"07f903ff4863b38407b58cac0bfed201\", element=\"0.8575908822935008-132\")>,\n",
       " <selenium.webdriver.remote.webelement.WebElement (session=\"07f903ff4863b38407b58cac0bfed201\", element=\"0.8575908822935008-133\")>,\n",
       " <selenium.webdriver.remote.webelement.WebElement (session=\"07f903ff4863b38407b58cac0bfed201\", element=\"0.8575908822935008-134\")>,\n",
       " <selenium.webdriver.remote.webelement.WebElement (session=\"07f903ff4863b38407b58cac0bfed201\", element=\"0.8575908822935008-135\")>,\n",
       " <selenium.webdriver.remote.webelement.WebElement (session=\"07f903ff4863b38407b58cac0bfed201\", element=\"0.8575908822935008-136\")>,\n",
       " <selenium.webdriver.remote.webelement.WebElement (session=\"07f903ff4863b38407b58cac0bfed201\", element=\"0.8575908822935008-137\")>,\n",
       " <selenium.webdriver.remote.webelement.WebElement (session=\"07f903ff4863b38407b58cac0bfed201\", element=\"0.8575908822935008-138\")>,\n",
       " <selenium.webdriver.remote.webelement.WebElement (session=\"07f903ff4863b38407b58cac0bfed201\", element=\"0.8575908822935008-139\")>,\n",
       " <selenium.webdriver.remote.webelement.WebElement (session=\"07f903ff4863b38407b58cac0bfed201\", element=\"0.8575908822935008-140\")>,\n",
       " <selenium.webdriver.remote.webelement.WebElement (session=\"07f903ff4863b38407b58cac0bfed201\", element=\"0.8575908822935008-141\")>,\n",
       " <selenium.webdriver.remote.webelement.WebElement (session=\"07f903ff4863b38407b58cac0bfed201\", element=\"0.8575908822935008-142\")>,\n",
       " <selenium.webdriver.remote.webelement.WebElement (session=\"07f903ff4863b38407b58cac0bfed201\", element=\"0.8575908822935008-143\")>,\n",
       " <selenium.webdriver.remote.webelement.WebElement (session=\"07f903ff4863b38407b58cac0bfed201\", element=\"0.8575908822935008-144\")>,\n",
       " <selenium.webdriver.remote.webelement.WebElement (session=\"07f903ff4863b38407b58cac0bfed201\", element=\"0.8575908822935008-145\")>,\n",
       " <selenium.webdriver.remote.webelement.WebElement (session=\"07f903ff4863b38407b58cac0bfed201\", element=\"0.8575908822935008-146\")>,\n",
       " <selenium.webdriver.remote.webelement.WebElement (session=\"07f903ff4863b38407b58cac0bfed201\", element=\"0.8575908822935008-147\")>,\n",
       " <selenium.webdriver.remote.webelement.WebElement (session=\"07f903ff4863b38407b58cac0bfed201\", element=\"0.8575908822935008-148\")>,\n",
       " <selenium.webdriver.remote.webelement.WebElement (session=\"07f903ff4863b38407b58cac0bfed201\", element=\"0.8575908822935008-149\")>,\n",
       " <selenium.webdriver.remote.webelement.WebElement (session=\"07f903ff4863b38407b58cac0bfed201\", element=\"0.8575908822935008-150\")>,\n",
       " <selenium.webdriver.remote.webelement.WebElement (session=\"07f903ff4863b38407b58cac0bfed201\", element=\"0.8575908822935008-151\")>,\n",
       " <selenium.webdriver.remote.webelement.WebElement (session=\"07f903ff4863b38407b58cac0bfed201\", element=\"0.8575908822935008-152\")>,\n",
       " <selenium.webdriver.remote.webelement.WebElement (session=\"07f903ff4863b38407b58cac0bfed201\", element=\"0.8575908822935008-153\")>,\n",
       " <selenium.webdriver.remote.webelement.WebElement (session=\"07f903ff4863b38407b58cac0bfed201\", element=\"0.8575908822935008-154\")>,\n",
       " <selenium.webdriver.remote.webelement.WebElement (session=\"07f903ff4863b38407b58cac0bfed201\", element=\"0.8575908822935008-155\")>,\n",
       " <selenium.webdriver.remote.webelement.WebElement (session=\"07f903ff4863b38407b58cac0bfed201\", element=\"0.8575908822935008-156\")>,\n",
       " <selenium.webdriver.remote.webelement.WebElement (session=\"07f903ff4863b38407b58cac0bfed201\", element=\"0.8575908822935008-157\")>,\n",
       " <selenium.webdriver.remote.webelement.WebElement (session=\"07f903ff4863b38407b58cac0bfed201\", element=\"0.8575908822935008-158\")>,\n",
       " <selenium.webdriver.remote.webelement.WebElement (session=\"07f903ff4863b38407b58cac0bfed201\", element=\"0.8575908822935008-159\")>,\n",
       " <selenium.webdriver.remote.webelement.WebElement (session=\"07f903ff4863b38407b58cac0bfed201\", element=\"0.8575908822935008-160\")>,\n",
       " <selenium.webdriver.remote.webelement.WebElement (session=\"07f903ff4863b38407b58cac0bfed201\", element=\"0.8575908822935008-161\")>,\n",
       " <selenium.webdriver.remote.webelement.WebElement (session=\"07f903ff4863b38407b58cac0bfed201\", element=\"0.8575908822935008-162\")>,\n",
       " <selenium.webdriver.remote.webelement.WebElement (session=\"07f903ff4863b38407b58cac0bfed201\", element=\"0.8575908822935008-163\")>,\n",
       " <selenium.webdriver.remote.webelement.WebElement (session=\"07f903ff4863b38407b58cac0bfed201\", element=\"0.8575908822935008-164\")>,\n",
       " <selenium.webdriver.remote.webelement.WebElement (session=\"07f903ff4863b38407b58cac0bfed201\", element=\"0.8575908822935008-165\")>,\n",
       " <selenium.webdriver.remote.webelement.WebElement (session=\"07f903ff4863b38407b58cac0bfed201\", element=\"0.8575908822935008-166\")>,\n",
       " <selenium.webdriver.remote.webelement.WebElement (session=\"07f903ff4863b38407b58cac0bfed201\", element=\"0.8575908822935008-167\")>,\n",
       " <selenium.webdriver.remote.webelement.WebElement (session=\"07f903ff4863b38407b58cac0bfed201\", element=\"0.8575908822935008-168\")>,\n",
       " <selenium.webdriver.remote.webelement.WebElement (session=\"07f903ff4863b38407b58cac0bfed201\", element=\"0.8575908822935008-169\")>,\n",
       " <selenium.webdriver.remote.webelement.WebElement (session=\"07f903ff4863b38407b58cac0bfed201\", element=\"0.8575908822935008-170\")>,\n",
       " <selenium.webdriver.remote.webelement.WebElement (session=\"07f903ff4863b38407b58cac0bfed201\", element=\"0.8575908822935008-171\")>,\n",
       " <selenium.webdriver.remote.webelement.WebElement (session=\"07f903ff4863b38407b58cac0bfed201\", element=\"0.8575908822935008-172\")>,\n",
       " <selenium.webdriver.remote.webelement.WebElement (session=\"07f903ff4863b38407b58cac0bfed201\", element=\"0.8575908822935008-173\")>,\n",
       " <selenium.webdriver.remote.webelement.WebElement (session=\"07f903ff4863b38407b58cac0bfed201\", element=\"0.8575908822935008-174\")>]"
      ]
     },
     "execution_count": 19,
     "metadata": {},
     "output_type": "execute_result"
    }
   ],
   "source": [
    "keywords"
   ]
  }
 ],
 "metadata": {
  "kernelspec": {
   "display_name": "Python 3",
   "language": "python",
   "name": "python3"
  },
  "language_info": {
   "codemirror_mode": {
    "name": "ipython",
    "version": 3
   },
   "file_extension": ".py",
   "mimetype": "text/x-python",
   "name": "python",
   "nbconvert_exporter": "python",
   "pygments_lexer": "ipython3",
   "version": "3.6.5"
  }
 },
 "nbformat": 4,
 "nbformat_minor": 2
}
