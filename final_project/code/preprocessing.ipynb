{
 "cells": [
  {
   "cell_type": "code",
   "execution_count": 1,
   "metadata": {},
   "outputs": [
    {
     "name": "stderr",
     "output_type": "stream",
     "text": [
      "C:\\Users\\yjoun\\AppData\\Local\\Continuum\\anaconda3\\lib\\site-packages\\h5py\\__init__.py:36: FutureWarning: Conversion of the second argument of issubdtype from `float` to `np.floating` is deprecated. In future, it will be treated as `np.float64 == np.dtype(float).type`.\n",
      "  from ._conv import register_converters as _register_converters\n",
      "Using TensorFlow backend.\n"
     ]
    }
   ],
   "source": [
    "from sklearn.feature_extraction.text import CountVectorizer, TfidfVectorizer\n",
    "from sklearn.model_selection import train_test_split\n",
    "from sklearn.naive_bayes import MultinomialNB\n",
    "from sklearn.pipeline import Pipeline\n",
    "from konlpy.tag import Twitter\n",
    "import pandas as pd\n",
    "import numpy as np\n",
    "import csv\n",
    "import matplotlib as mpl\n",
    "import matplotlib.pyplot as plt\n",
    "import pymongo\n",
    "from sklearn.metrics import confusion_matrix, classification_report\n",
    "import os\n",
    "os.environ['MKL_THREADING_LAYER'] = 'GNU'\n",
    "import theano\n",
    "import seaborn\n",
    "import theano.tensor as T\n",
    "import pickle\n",
    "from IPython.core.display import display, HTML\n",
    "from IPython.display import IFrame\n",
    "from pivottablejs import pivot_ui\n",
    "from keras.models import Sequential\n",
    "from keras.layers import Dense, Embedding, LSTM, Dropout\n",
    "from keras.optimizers import *\n",
    "from keras.utils import np_utils\n",
    "from keras.preprocessing import sequence\n",
    "from keras.preprocessing.text import Tokenizer\n",
    "from nltk.tokenize import sent_tokenize\n",
    "%matplotlib inline"
   ]
  },
  {
   "cell_type": "code",
   "execution_count": 140,
   "metadata": {},
   "outputs": [],
   "source": [
    "client = pymongo.MongoClient('mongodb://localhost:27017/')"
   ]
  },
  {
   "cell_type": "code",
   "execution_count": 141,
   "metadata": {
    "scrolled": true
   },
   "outputs": [
    {
     "data": {
      "text/plain": [
       "['keyword_rank', 'data', 'rel_keyword']"
      ]
     },
     "execution_count": 141,
     "metadata": {},
     "output_type": "execute_result"
    }
   ],
   "source": [
    "db = client.crawl_data\n",
    "db.collection_names()"
   ]
  },
  {
   "cell_type": "code",
   "execution_count": 142,
   "metadata": {},
   "outputs": [],
   "source": [
    "collection = db.data\n",
    "collection2 = db.keyword_rank"
   ]
  },
  {
   "cell_type": "code",
   "execution_count": 13,
   "metadata": {},
   "outputs": [],
   "source": [
    "item_df = pd.DataFrame(list(collection.find()))\n",
    "keyword_df = pd.DataFrame(list(collection2.find()))"
   ]
  },
  {
   "cell_type": "code",
   "execution_count": 14,
   "metadata": {},
   "outputs": [],
   "source": [
    "item_df.drop(['_id'], axis=1, inplace=True)\n",
    "keyword_df.drop(['_id'], axis=1, inplace=True)"
   ]
  },
  {
   "cell_type": "markdown",
   "metadata": {},
   "source": [
    "- 패션의류: 0\n",
    "- 패션잡화: 1\n",
    "- 화장품/미용: 2\n",
    "- 디지털/가전: 3\n",
    "- 가구/인테리어: 4\n",
    "- 출산/육아: 5\n",
    "- 스포츠/레저: 6\n",
    "- 식품:7 \n",
    "- 생활/건강: 8"
   ]
  },
  {
   "cell_type": "code",
   "execution_count": 32,
   "metadata": {},
   "outputs": [],
   "source": [
    "item_df['catID'] = np.where(item_df.catID == '패션의류', 0, item_df.catID)\n",
    "item_df['catID'] = np.where(item_df.catID == '패션잡화', 1, item_df.catID)\n",
    "item_df['catID'] = np.where(item_df.catID == '화장품/미용', 2, item_df.catID)\n",
    "item_df['catID'] = np.where(item_df.catID == '디지털/가전', 3, item_df.catID)\n",
    "item_df['catID'] = np.where(item_df.catID == '가구/인테리어', 4, item_df.catID)\n",
    "item_df['catID'] = np.where(item_df.catID == '출산/육아', 5, item_df.catID)\n",
    "item_df['catID'] = np.where(item_df.catID == '스포츠/레저', 6, item_df.catID)\n",
    "item_df['catID'] = np.where(item_df.catID == '식품', 7, item_df.catID)\n",
    "item_df['catID'] = np.where(item_df.catID == '생활/건강', 8, item_df.catID)"
   ]
  },
  {
   "cell_type": "code",
   "execution_count": 34,
   "metadata": {},
   "outputs": [
    {
     "name": "stderr",
     "output_type": "stream",
     "text": [
      "C:\\Users\\yjoun\\AppData\\Local\\Continuum\\anaconda3\\lib\\site-packages\\pandas\\core\\ops.py:816: FutureWarning: elementwise comparison failed; returning scalar instead, but in the future will perform elementwise comparison\n",
      "  result = getattr(x, name)(y)\n"
     ]
    },
    {
     "ename": "TypeError",
     "evalue": "invalid type comparison",
     "output_type": "error",
     "traceback": [
      "\u001b[1;31m---------------------------------------------------------------------------\u001b[0m",
      "\u001b[1;31mTypeError\u001b[0m                                 Traceback (most recent call last)",
      "\u001b[1;32m<ipython-input-34-cfeb93fb4468>\u001b[0m in \u001b[0;36m<module>\u001b[1;34m()\u001b[0m\n\u001b[1;32m----> 1\u001b[1;33m \u001b[0mkeyword_df\u001b[0m\u001b[1;33m[\u001b[0m\u001b[1;34m'catID'\u001b[0m\u001b[1;33m]\u001b[0m \u001b[1;33m=\u001b[0m \u001b[0mnp\u001b[0m\u001b[1;33m.\u001b[0m\u001b[0mwhere\u001b[0m\u001b[1;33m(\u001b[0m\u001b[0mkeyword_df\u001b[0m\u001b[1;33m.\u001b[0m\u001b[0mcatID\u001b[0m \u001b[1;33m==\u001b[0m \u001b[1;34m'패션의류'\u001b[0m\u001b[1;33m,\u001b[0m \u001b[1;36m0\u001b[0m\u001b[1;33m,\u001b[0m \u001b[0mkeyword_df\u001b[0m\u001b[1;33m.\u001b[0m\u001b[0mcatID\u001b[0m\u001b[1;33m)\u001b[0m\u001b[1;33m\u001b[0m\u001b[0m\n\u001b[0m\u001b[0;32m      2\u001b[0m \u001b[0mkeyword_df\u001b[0m\u001b[1;33m[\u001b[0m\u001b[1;34m'catID'\u001b[0m\u001b[1;33m]\u001b[0m \u001b[1;33m=\u001b[0m \u001b[0mnp\u001b[0m\u001b[1;33m.\u001b[0m\u001b[0mwhere\u001b[0m\u001b[1;33m(\u001b[0m\u001b[0mkeyword_df\u001b[0m\u001b[1;33m.\u001b[0m\u001b[0mcatID\u001b[0m \u001b[1;33m==\u001b[0m \u001b[1;34m'패션잡화'\u001b[0m\u001b[1;33m,\u001b[0m \u001b[1;36m1\u001b[0m\u001b[1;33m,\u001b[0m \u001b[0mkeyword_df\u001b[0m\u001b[1;33m.\u001b[0m\u001b[0mcatID\u001b[0m\u001b[1;33m)\u001b[0m\u001b[1;33m\u001b[0m\u001b[0m\n\u001b[0;32m      3\u001b[0m \u001b[0mkeyword_df\u001b[0m\u001b[1;33m[\u001b[0m\u001b[1;34m'catID'\u001b[0m\u001b[1;33m]\u001b[0m \u001b[1;33m=\u001b[0m \u001b[0mnp\u001b[0m\u001b[1;33m.\u001b[0m\u001b[0mwhere\u001b[0m\u001b[1;33m(\u001b[0m\u001b[0mkeyword_df\u001b[0m\u001b[1;33m.\u001b[0m\u001b[0mcatID\u001b[0m \u001b[1;33m==\u001b[0m \u001b[1;34m'화장품/미용'\u001b[0m\u001b[1;33m,\u001b[0m \u001b[1;36m2\u001b[0m\u001b[1;33m,\u001b[0m \u001b[0mkeyword_df\u001b[0m\u001b[1;33m.\u001b[0m\u001b[0mcatID\u001b[0m\u001b[1;33m)\u001b[0m\u001b[1;33m\u001b[0m\u001b[0m\n\u001b[0;32m      4\u001b[0m \u001b[0mkeyword_df\u001b[0m\u001b[1;33m[\u001b[0m\u001b[1;34m'catID'\u001b[0m\u001b[1;33m]\u001b[0m \u001b[1;33m=\u001b[0m \u001b[0mnp\u001b[0m\u001b[1;33m.\u001b[0m\u001b[0mwhere\u001b[0m\u001b[1;33m(\u001b[0m\u001b[0mkeyword_df\u001b[0m\u001b[1;33m.\u001b[0m\u001b[0mcatID\u001b[0m \u001b[1;33m==\u001b[0m \u001b[1;34m'디지털/가전'\u001b[0m\u001b[1;33m,\u001b[0m \u001b[1;36m3\u001b[0m\u001b[1;33m,\u001b[0m \u001b[0mkeyword_df\u001b[0m\u001b[1;33m.\u001b[0m\u001b[0mcatID\u001b[0m\u001b[1;33m)\u001b[0m\u001b[1;33m\u001b[0m\u001b[0m\n\u001b[0;32m      5\u001b[0m \u001b[0mkeyword_df\u001b[0m\u001b[1;33m[\u001b[0m\u001b[1;34m'catID'\u001b[0m\u001b[1;33m]\u001b[0m \u001b[1;33m=\u001b[0m \u001b[0mnp\u001b[0m\u001b[1;33m.\u001b[0m\u001b[0mwhere\u001b[0m\u001b[1;33m(\u001b[0m\u001b[0mkeyword_df\u001b[0m\u001b[1;33m.\u001b[0m\u001b[0mcatID\u001b[0m \u001b[1;33m==\u001b[0m \u001b[1;34m'가구/인테리어'\u001b[0m\u001b[1;33m,\u001b[0m \u001b[1;36m4\u001b[0m\u001b[1;33m,\u001b[0m \u001b[0mkeyword_df\u001b[0m\u001b[1;33m.\u001b[0m\u001b[0mcatID\u001b[0m\u001b[1;33m)\u001b[0m\u001b[1;33m\u001b[0m\u001b[0m\n",
      "\u001b[1;32m~\\AppData\\Local\\Continuum\\anaconda3\\lib\\site-packages\\pandas\\core\\ops.py\u001b[0m in \u001b[0;36mwrapper\u001b[1;34m(self, other, axis)\u001b[0m\n\u001b[0;32m    877\u001b[0m \u001b[1;33m\u001b[0m\u001b[0m\n\u001b[0;32m    878\u001b[0m             \u001b[1;32mwith\u001b[0m \u001b[0mnp\u001b[0m\u001b[1;33m.\u001b[0m\u001b[0merrstate\u001b[0m\u001b[1;33m(\u001b[0m\u001b[0mall\u001b[0m\u001b[1;33m=\u001b[0m\u001b[1;34m'ignore'\u001b[0m\u001b[1;33m)\u001b[0m\u001b[1;33m:\u001b[0m\u001b[1;33m\u001b[0m\u001b[0m\n\u001b[1;32m--> 879\u001b[1;33m                 \u001b[0mres\u001b[0m \u001b[1;33m=\u001b[0m \u001b[0mna_op\u001b[0m\u001b[1;33m(\u001b[0m\u001b[0mvalues\u001b[0m\u001b[1;33m,\u001b[0m \u001b[0mother\u001b[0m\u001b[1;33m)\u001b[0m\u001b[1;33m\u001b[0m\u001b[0m\n\u001b[0m\u001b[0;32m    880\u001b[0m             \u001b[1;32mif\u001b[0m \u001b[0mis_scalar\u001b[0m\u001b[1;33m(\u001b[0m\u001b[0mres\u001b[0m\u001b[1;33m)\u001b[0m\u001b[1;33m:\u001b[0m\u001b[1;33m\u001b[0m\u001b[0m\n\u001b[0;32m    881\u001b[0m                 raise TypeError('Could not compare {typ} type with Series'\n",
      "\u001b[1;32m~\\AppData\\Local\\Continuum\\anaconda3\\lib\\site-packages\\pandas\\core\\ops.py\u001b[0m in \u001b[0;36mna_op\u001b[1;34m(x, y)\u001b[0m\n\u001b[0;32m    816\u001b[0m                     \u001b[0mresult\u001b[0m \u001b[1;33m=\u001b[0m \u001b[0mgetattr\u001b[0m\u001b[1;33m(\u001b[0m\u001b[0mx\u001b[0m\u001b[1;33m,\u001b[0m \u001b[0mname\u001b[0m\u001b[1;33m)\u001b[0m\u001b[1;33m(\u001b[0m\u001b[0my\u001b[0m\u001b[1;33m)\u001b[0m\u001b[1;33m\u001b[0m\u001b[0m\n\u001b[0;32m    817\u001b[0m                 \u001b[1;32mif\u001b[0m \u001b[0mresult\u001b[0m \u001b[1;32mis\u001b[0m \u001b[0mNotImplemented\u001b[0m\u001b[1;33m:\u001b[0m\u001b[1;33m\u001b[0m\u001b[0m\n\u001b[1;32m--> 818\u001b[1;33m                     \u001b[1;32mraise\u001b[0m \u001b[0mTypeError\u001b[0m\u001b[1;33m(\u001b[0m\u001b[1;34m\"invalid type comparison\"\u001b[0m\u001b[1;33m)\u001b[0m\u001b[1;33m\u001b[0m\u001b[0m\n\u001b[0m\u001b[0;32m    819\u001b[0m             \u001b[1;32mexcept\u001b[0m \u001b[0mAttributeError\u001b[0m\u001b[1;33m:\u001b[0m\u001b[1;33m\u001b[0m\u001b[0m\n\u001b[0;32m    820\u001b[0m                 \u001b[0mresult\u001b[0m \u001b[1;33m=\u001b[0m \u001b[0mop\u001b[0m\u001b[1;33m(\u001b[0m\u001b[0mx\u001b[0m\u001b[1;33m,\u001b[0m \u001b[0my\u001b[0m\u001b[1;33m)\u001b[0m\u001b[1;33m\u001b[0m\u001b[0m\n",
      "\u001b[1;31mTypeError\u001b[0m: invalid type comparison"
     ]
    }
   ],
   "source": [
    "keyword_df['catID'] = np.where(keyword_df.catID == '패션의류', 0, keyword_df.catID)\n",
    "keyword_df['catID'] = np.where(keyword_df.catID == '패션잡화', 1, keyword_df.catID)\n",
    "keyword_df['catID'] = np.where(keyword_df.catID == '화장품/미용', 2, keyword_df.catID)\n",
    "keyword_df['catID'] = np.where(keyword_df.catID == '디지털/가전', 3, keyword_df.catID)\n",
    "keyword_df['catID'] = np.where(keyword_df.catID == '가구/인테리어', 4, keyword_df.catID)\n",
    "keyword_df['catID'] = np.where(keyword_df.catID == '출산/육아', 5, keyword_df.catID)\n",
    "keyword_df['catID'] = np.where(keyword_df.catID == '스포츠/레저', 6, keyword_df.catID)\n",
    "keyword_df['catID'] = np.where(keyword_df.catID == '식품', 7, keyword_df.catID)\n",
    "keyword_df['catID'] = np.where(keyword_df.catID == '생활/건강', 8, keyword_df.catID)"
   ]
  },
  {
   "cell_type": "code",
   "execution_count": 83,
   "metadata": {},
   "outputs": [],
   "source": [
    "catID = item_df['catID']\n",
    "item_name = item_df['item_name']\n",
    "catID = pd.DataFrame(np.append(catID, keyword_df['catID']))\n",
    "item_name = pd.DataFrame(np.append(item_name, keyword_df['keywords']))\n",
    "tmp_df = pd.DataFrame(np.append(catID, item_name, axis=1), columns=['catID','item_name'])\n",
    "tmp_df = tmp_df.drop_duplicates(subset=['catID', 'item_name'], keep='first')\n",
    "tmp_df['catID'] = tmp_df['catID'].astype('int64')"
   ]
  },
  {
   "cell_type": "markdown",
   "metadata": {},
   "source": [
    "# Naive Bayes Multinormial 모델 만들기\n",
    "- shallow learning"
   ]
  },
  {
   "cell_type": "code",
   "execution_count": 85,
   "metadata": {},
   "outputs": [],
   "source": [
    "X_train, X_test, y_train, y_test = train_test_split(tmp_df['item_name'], tmp_df['catID'], test_size=0.1, random_state=0)"
   ]
  },
  {
   "cell_type": "code",
   "execution_count": 86,
   "metadata": {},
   "outputs": [
    {
     "data": {
      "text/plain": [
       "(4398, 489, 4398, 489)"
      ]
     },
     "execution_count": 86,
     "metadata": {},
     "output_type": "execute_result"
    }
   ],
   "source": [
    "len(X_train), len(X_test), len(y_train), len(y_test)"
   ]
  },
  {
   "cell_type": "code",
   "execution_count": 87,
   "metadata": {},
   "outputs": [],
   "source": [
    "clf = Pipeline([\n",
    "    ('vect', TfidfVectorizer()),\n",
    "    ('clf',MultinomialNB(alpha=0.01)),\n",
    "])"
   ]
  },
  {
   "cell_type": "code",
   "execution_count": 88,
   "metadata": {
    "scrolled": false
   },
   "outputs": [],
   "source": [
    "model = clf.fit(X_train, y_train)"
   ]
  },
  {
   "cell_type": "code",
   "execution_count": 89,
   "metadata": {},
   "outputs": [],
   "source": [
    "y_pred = model.predict(X_test)"
   ]
  },
  {
   "cell_type": "code",
   "execution_count": 90,
   "metadata": {},
   "outputs": [
    {
     "data": {
      "text/plain": [
       "array([[58,  1,  0,  0,  0,  1,  0,  1,  0],\n",
       "       [ 2, 48,  0,  0,  0,  1,  1,  0,  0],\n",
       "       [ 8,  0, 27,  0,  0,  0,  1,  1,  1],\n",
       "       [ 3,  0,  0, 55,  3,  1,  3,  2,  1],\n",
       "       [ 9,  0,  0,  0, 39,  1,  2,  0,  3],\n",
       "       [15,  3,  2,  1,  2, 45,  1,  0,  1],\n",
       "       [13,  1,  0,  2,  2,  1, 25,  3,  4],\n",
       "       [ 9,  3,  2,  0,  0,  1,  6, 24,  0],\n",
       "       [ 9,  1,  2,  1,  4,  2,  1,  3, 27]], dtype=int64)"
      ]
     },
     "execution_count": 90,
     "metadata": {},
     "output_type": "execute_result"
    }
   ],
   "source": [
    "confusion_matrix(y_test, y_pred)"
   ]
  },
  {
   "cell_type": "code",
   "execution_count": 91,
   "metadata": {
    "scrolled": true
   },
   "outputs": [
    {
     "name": "stdout",
     "output_type": "stream",
     "text": [
      "             precision    recall  f1-score   support\n",
      "\n",
      "          0       0.46      0.95      0.62        61\n",
      "          1       0.84      0.92      0.88        52\n",
      "          2       0.82      0.71      0.76        38\n",
      "          3       0.93      0.81      0.87        68\n",
      "          4       0.78      0.72      0.75        54\n",
      "          5       0.85      0.64      0.73        70\n",
      "          6       0.62      0.49      0.55        51\n",
      "          7       0.71      0.53      0.61        45\n",
      "          8       0.73      0.54      0.62        50\n",
      "\n",
      "avg / total       0.75      0.71      0.71       489\n",
      "\n"
     ]
    }
   ],
   "source": [
    "print(classification_report(y_test, y_pred))"
   ]
  },
  {
   "cell_type": "code",
   "execution_count": 92,
   "metadata": {},
   "outputs": [],
   "source": [
    "pickle.dump(model, open(\"classification.plk\", \"wb\"))"
   ]
  },
  {
   "cell_type": "markdown",
   "metadata": {},
   "source": [
    "# 카테고리 분류 결과 확인"
   ]
  },
  {
   "cell_type": "code",
   "execution_count": 96,
   "metadata": {
    "scrolled": false
   },
   "outputs": [
    {
     "name": "stdout",
     "output_type": "stream",
     "text": [
      "python ..\\flask_show\\chart.py\n"
     ]
    },
    {
     "data": {
      "text/html": [
       "\n",
       "        <iframe\n",
       "            width=\"1000\"\n",
       "            height=\"350\"\n",
       "            src=\"http://127.0.0.1:5000\"\n",
       "            frameborder=\"0\"\n",
       "            allowfullscreen\n",
       "        ></iframe>\n",
       "        "
      ],
      "text/plain": [
       "<IPython.lib.display.IFrame at 0x216319650f0>"
      ]
     },
     "execution_count": 96,
     "metadata": {},
     "output_type": "execute_result"
    }
   ],
   "source": [
    "!echo python ..\\flask_show\\chart.py\n",
    "IFrame('http://127.0.0.1:5000', width=1000, height=350)"
   ]
  },
  {
   "cell_type": "markdown",
   "metadata": {},
   "source": [
    "# Keyword Rank DB 저장 (완료)"
   ]
  },
  {
   "cell_type": "code",
   "execution_count": 160,
   "metadata": {},
   "outputs": [],
   "source": [
    "# cat_list = ['cloth', 'accessories', 'cosmetic', 'digital', 'furniture', 'babycare', 'sports', 'food', 'lifestyle',]\n",
    "# keyword_df = pd.DataFrame()\n",
    "# df = pd.DataFrame(columns=[ 'catID', 'rank', 'keywords', 'date', 'rel_record'])\n",
    "# for idx, doc_name in enumerate(cat_list):\n",
    "#     for doc_num in range(1, 101):\n",
    "#         with open('C:/Users/yjoun/Desktop/datascience/final_project/final_project/data/'+doc_name+'/'+str(doc_num)+'.csv','rt',encoding='UTF-8') as fd:\n",
    "#             reader = csv.reader(fd)\n",
    "#             tmp_df = [row for row in reader]\n",
    "#             tmp_df = pd.DataFrame(tmp_df[8:])\n",
    "#             df['date'] = tmp_df[0][1:]\n",
    "#             df['rel_record'] = tmp_df[1][1:]\n",
    "#             df['catID'] = list(filter(lambda x: x!=\"\", [cat if i == idx else \"\" for i, cat in enumerate (['패션의류', '패션잡화', '화장품/미용', '디지털/가전', '가구/인테리어', '출산/육아', '스포츠/레저', '식품', '생활/건강',])]))[0]\n",
    "#             df['rank'] = doc_num\n",
    "#             df['keywords'] = tmp_df[1][0]\n",
    "#             keyword_df = keyword_df.append(df)\n",
    "            "
   ]
  },
  {
   "cell_type": "code",
   "execution_count": 164,
   "metadata": {},
   "outputs": [
    {
     "data": {
      "text/plain": [
       "MongoClient(host=['localhost:27017'], document_class=dict, tz_aware=False, connect=True)"
      ]
     },
     "execution_count": 164,
     "metadata": {},
     "output_type": "execute_result"
    }
   ],
   "source": [
    "# client = pymongo.MongoClient(\"mongodb://localhost:27017/\")\n",
    "# client"
   ]
  },
  {
   "cell_type": "code",
   "execution_count": 165,
   "metadata": {},
   "outputs": [],
   "source": [
    "# db = client.crawl_data"
   ]
  },
  {
   "cell_type": "code",
   "execution_count": 166,
   "metadata": {},
   "outputs": [],
   "source": [
    "# keyword_rank = client.crawl_data.keyword_rank"
   ]
  },
  {
   "cell_type": "code",
   "execution_count": 167,
   "metadata": {},
   "outputs": [],
   "source": [
    "# keyword_df = keyword_df.to_dict('records')"
   ]
  },
  {
   "cell_type": "code",
   "execution_count": 168,
   "metadata": {},
   "outputs": [
    {
     "data": {
      "text/plain": [
       "<pymongo.results.InsertManyResult at 0x1d0c7292318>"
      ]
     },
     "execution_count": 168,
     "metadata": {},
     "output_type": "execute_result"
    }
   ],
   "source": [
    "# keyword_rank.insert_many(keyword_df)"
   ]
  },
  {
   "cell_type": "code",
   "execution_count": 169,
   "metadata": {},
   "outputs": [],
   "source": [
    "# MONGO_QUERY = {}"
   ]
  },
  {
   "cell_type": "code",
   "execution_count": 170,
   "metadata": {},
   "outputs": [
    {
     "data": {
      "text/plain": [
       "235800"
      ]
     },
     "execution_count": 170,
     "metadata": {},
     "output_type": "execute_result"
    }
   ],
   "source": [
    "# keyword_rank.find(MONGO_QUERY).count()"
   ]
  },
  {
   "cell_type": "code",
   "execution_count": 98,
   "metadata": {},
   "outputs": [
    {
     "data": {
      "text/plain": [
       "['keyword_rank', 'data']"
      ]
     },
     "execution_count": 98,
     "metadata": {},
     "output_type": "execute_result"
    }
   ],
   "source": [
    "db = client.crawl_data\n",
    "db.collection_names()"
   ]
  },
  {
   "cell_type": "code",
   "execution_count": 99,
   "metadata": {},
   "outputs": [
    {
     "data": {
      "text/plain": [
       "Collection(Database(MongoClient(host=['localhost:27017'], document_class=dict, tz_aware=False, connect=True), 'crawl_data'), 'keyword_rank')"
      ]
     },
     "execution_count": 99,
     "metadata": {},
     "output_type": "execute_result"
    }
   ],
   "source": [
    "collection2 = db.keyword_rank\n",
    "collection2"
   ]
  },
  {
   "cell_type": "code",
   "execution_count": 102,
   "metadata": {},
   "outputs": [],
   "source": [
    "keyword_df = pd.DataFrame(list(collection2.find()))"
   ]
  },
  {
   "cell_type": "code",
   "execution_count": 103,
   "metadata": {},
   "outputs": [],
   "source": [
    "keyword_df.drop(['_id'], axis=1, inplace=True)"
   ]
  },
  {
   "cell_type": "code",
   "execution_count": 104,
   "metadata": {},
   "outputs": [],
   "source": [
    "keyword_df['date'] = pd.to_datetime(keyword_df['date'])\n",
    "keyword_df['rel_record'] = np.where(keyword_df['rel_record'] == None, 0.0, keyword_df['rel_record'])\n",
    "keyword_df['rel_record'] = pd.to_numeric(keyword_df['rel_record'])"
   ]
  },
  {
   "cell_type": "code",
   "execution_count": 266,
   "metadata": {},
   "outputs": [
    {
     "data": {
      "text/plain": [
       "'생활/건강'"
      ]
     },
     "execution_count": 266,
     "metadata": {},
     "output_type": "execute_result"
    }
   ],
   "source": [
    "tmp = keyword_df[keyword_df['keywords'] == '그릇세트'].reset_index(drop=True)\n",
    "tmp['catID'][0]"
   ]
  },
  {
   "cell_type": "code",
   "execution_count": 295,
   "metadata": {
    "scrolled": true
   },
   "outputs": [],
   "source": [
    "def kw_record_over_dt(keyword):\n",
    "    tmp = []\n",
    "    tmp = keyword_df[keyword_df['keywords'] == keyword].reset_index(drop=True)\n",
    "    tmp.plot(x='date', y='rel_record', kind='line', figsize=(30,10))\n",
    "    rc('font', family=\"NanumSquare\")\n",
    "    plt.title('categort: {}, keyword: {}, rank: {}'.format(tmp['catID'][0], keyword, tmp['rank'][0]))\n",
    "    return plt.show()"
   ]
  },
  {
   "cell_type": "code",
   "execution_count": 297,
   "metadata": {},
   "outputs": [
    {
     "name": "stderr",
     "output_type": "stream",
     "text": [
      "C:\\Users\\yjoun\\AppData\\Local\\Continuum\\anaconda3\\lib\\site-packages\\matplotlib\\font_manager.py:1328: UserWarning: findfont: Font family ['NanumSquare'] not found. Falling back to DejaVu Sans\n",
      "  (prop.get_family(), self.defaultFamily[fontext]))\n"
     ]
    },
    {
     "data": {
      "image/png": "[encoded data removed]",
      "text/plain": [
       "<Figure size 2160x720 with 1 Axes>"
      ]
     },
     "metadata": {},
     "output_type": "display_data"
    }
   ],
   "source": [
    "kw_record_over_dt('핸드메이드코트')"
   ]
  },
  {
   "cell_type": "code",
   "execution_count": 122,
   "metadata": {},
   "outputs": [],
   "source": [
    "# key_list = keyword_df.keywords.unique()\n",
    "# rel_keyword_df = pd.DataFrame(columns=['keyword'])\n",
    "# for doc_name in key_list:\n",
    "#     tmp_df = pd.read_excel('C:/Users/yjoun/Desktop/datascience/final_project/final_project/data/rel_keyword/'+str(doc_name)+'.xlsx',encoding='UTF-8', skiprows=0)\n",
    "#     tmp_df['keyword'] = doc_name\n",
    "#     rel_keyword_df = rel_keyword_df.append(tmp_df)"
   ]
  },
  {
   "cell_type": "code",
   "execution_count": 129,
   "metadata": {},
   "outputs": [],
   "source": [
    "# rel_keyword_df.reset_index(drop=True, inplace=True)\n",
    "# rel_keyword_df.columns = ['keyword', 'competancy', 'rel_keyword', 'monthly_click_pc', 'monthly_click_mobile', 'avg_montly_ad', 'avg_monthly_click_rate_pc', 'avg_monthly_click_rate_mobile', 'avg_monthly_click_pc', 'avg_monthly_click_mobile']"
   ]
  },
  {
   "cell_type": "code",
   "execution_count": 132,
   "metadata": {},
   "outputs": [],
   "source": [
    "# rel_keyword = client.crawl_data.rel_keyword"
   ]
  },
  {
   "cell_type": "code",
   "execution_count": 133,
   "metadata": {},
   "outputs": [],
   "source": [
    "# rel_keyword_df = rel_keyword_df.to_dict('records')"
   ]
  },
  {
   "cell_type": "code",
   "execution_count": 134,
   "metadata": {},
   "outputs": [
    {
     "data": {
      "text/plain": [
       "<pymongo.results.InsertManyResult at 0x2165b410828>"
      ]
     },
     "execution_count": 134,
     "metadata": {},
     "output_type": "execute_result"
    }
   ],
   "source": [
    "# rel_keyword.insert_many(rel_keyword_df)"
   ]
  },
  {
   "cell_type": "code",
   "execution_count": 136,
   "metadata": {},
   "outputs": [
    {
     "data": {
      "text/plain": [
       "552953"
      ]
     },
     "execution_count": 136,
     "metadata": {},
     "output_type": "execute_result"
    }
   ],
   "source": [
    "# MONGO_QUERY = {}\n",
    "# rel_keyword.find(MONGO_QUERY).count()"
   ]
  }
 ],
 "metadata": {
  "kernelspec": {
   "display_name": "Python 3",
   "language": "python",
   "name": "python3"
  },
  "language_info": {
   "codemirror_mode": {
    "name": "ipython",
    "version": 3
   },
   "file_extension": ".py",
   "mimetype": "text/x-python",
   "name": "python",
   "nbconvert_exporter": "python",
   "pygments_lexer": "ipython3",
   "version": "3.6.5"
  }
 },
 "nbformat": 4,
 "nbformat_minor": 2
}
